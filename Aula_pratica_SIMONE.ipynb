{
  "nbformat": 4,
  "nbformat_minor": 0,
  "metadata": {
    "colab": {
      "provenance": [],
      "authorship_tag": "ABX9TyPOKMUXEDekbPMuQNbhcLy7",
      "include_colab_link": true
    },
    "kernelspec": {
      "name": "python3",
      "display_name": "Python 3"
    },
    "language_info": {
      "name": "python"
    }
  },
  "cells": [
    {
      "cell_type": "markdown",
      "metadata": {
        "id": "view-in-github",
        "colab_type": "text"
      },
      "source": [
        "<a href=\"https://colab.research.google.com/github/AdrielMartins1997/Aula-pratica-SIMONE/blob/main/Aula_pratica_SIMONE.ipynb\" target=\"_parent\"><img src=\"https://colab.research.google.com/assets/colab-badge.svg\" alt=\"Open In Colab\"/></a>"
      ]
    },
    {
      "cell_type": "code",
      "execution_count": 72,
      "metadata": {
        "id": "xQZaNZ27P4xG"
      },
      "outputs": [],
      "source": [
        "# Método para calcular o valor absoluto usando if-else\n",
        "\n",
        "def abs_if_else(valor):\n",
        "  if valor < 0:\n",
        "    return -valor\n",
        "  else:\n",
        "    return valor"
      ]
    },
    {
      "cell_type": "code",
      "source": [
        "# Método para calcular o valor avsoluto usando operador ternário\n",
        "\n",
        "def abs_ternario(valor):\n",
        "  return -valor if valor < 0 else valor"
      ],
      "metadata": {
        "id": "fXRmTnJGRUee"
      },
      "execution_count": 73,
      "outputs": []
    },
    {
      "cell_type": "code",
      "source": [
        "# Método para calcular somatório de 0 até n usando for\n",
        "\n",
        "def somatorio_for(n):\n",
        "  soma = 0\n",
        "  for i in range(n + 1):\n",
        "    soma += i\n",
        "  return soma\n",
        ""
      ],
      "metadata": {
        "id": "3ZqYpA89R0i0"
      },
      "execution_count": 74,
      "outputs": []
    },
    {
      "cell_type": "code",
      "source": [
        "# Método para calcular o somatório de 0 até n usando While\n",
        "\n",
        "def somatorio_while(n):\n",
        "  soma = 0\n",
        "  i = 0\n",
        "  while i <= n:\n",
        "    soma += i\n",
        "    i += 1\n",
        "  return soma\n",
        "\n",
        ""
      ],
      "metadata": {
        "id": "YuxaTFpqSnGE"
      },
      "execution_count": 75,
      "outputs": []
    },
    {
      "cell_type": "code",
      "source": [
        "# Método para calcular somatório de 0 até n usando do-while (Simulado em Python)\n",
        "\n",
        "def somatorio_dowhile(n):\n",
        "  soma = 0\n",
        "  i = 0\n",
        "  while True:\n",
        "    soma += i\n",
        "    i += 1\n",
        "    if i > n:\n",
        "      break\n",
        "  return soma"
      ],
      "metadata": {
        "id": "dcWRfeLhTx2z"
      },
      "execution_count": 76,
      "outputs": []
    },
    {
      "cell_type": "code",
      "source": [
        "# Testes\n",
        "\n",
        "print(abs_if_else(-10))\n",
        "print(abs_ternario(-10))\n",
        "print(somatorio_for(35))\n",
        "print(somatorio_while(35))\n",
        "print(somatorio_dowhile(35))"
      ],
      "metadata": {
        "colab": {
          "base_uri": "https://localhost:8080/"
        },
        "id": "Tkl9fuxrUZIy",
        "outputId": "3b519f6a-38ae-40bb-9483-4974b7c3a783"
      },
      "execution_count": 77,
      "outputs": [
        {
          "output_type": "stream",
          "name": "stdout",
          "text": [
            "10\n",
            "10\n",
            "630\n",
            "630\n",
            "630\n"
          ]
        }
      ]
    }
  ]
}